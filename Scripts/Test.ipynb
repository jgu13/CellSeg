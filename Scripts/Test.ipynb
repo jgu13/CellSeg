{
 "cells": [
  {
   "cell_type": "markdown",
   "metadata": {},
   "source": [
    "# Testing for ideas"
   ]
  },
  {
   "cell_type": "code",
   "execution_count": 32,
   "metadata": {},
   "outputs": [],
   "source": [
    "# samples = os.listdir(DATA_DIR)\n",
    "\n",
    "# testsample = samples[0]\n",
    "# image_dir = os.path.join(DATA_DIR, testsample, 'Raw')\n",
    "# mask_dir = os.path.join(DATA_DIR, testsample, 'Mask')\n",
    "\n",
    "# nuc_img = mpl.pyplot.imread(os.path.join(image_dir, 'nuclei.tiff'))\n",
    "# nuc_img = rescale_intensity(nuc_img, (100, 400)) # need to manually set the intensity range\n",
    "# nuc_img = nuc_img[600:nuc_img.shape[0], 0:600]\n",
    "\n",
    "# nuc_cvseg = segmentation.chan_vese(nuc_img, mu=0.25, lambda1=1, lambda2=1, tol=1e-3,\n",
    "#                max_num_iter=200, dt=0.5, init_level_set=\"checkerboard\",\n",
    "#                extended_output=True)\n",
    "\n",
    "# fig, axes = mpl.pyplot.subplots(1, 2, figsize=(8, 5))\n",
    "# ax = axes.flatten()\n",
    "\n",
    "# ax[0].imshow(nuc_img, cmap=\"gray\")\n",
    "# ax[0].set_axis_off()\n",
    "# ax[0].set_title(\"Original Image\", fontsize=12)\n",
    "\n",
    "# ax[1].imshow(nuc_cvseg[0])\n",
    "# ax[1].set_axis_off()\n",
    "# title = f'Chan-Vese segmentation'\n",
    "# ax[1].set_title(title, fontsize=12)"
   ]
  },
  {
   "cell_type": "code",
   "execution_count": 31,
   "metadata": {},
   "outputs": [],
   "source": [
    "# nuc_mask = mpl.pyplot.imread(os.path.join(mask_dir, 'mask.tiff'))\n",
    "# nuc_mask = nuc_mask[600:nuc_mask.shape[0], 0:600]\n",
    "\n",
    "# fig, axes = mpl.pyplot.subplots(1, 2, figsize=(8, 5))\n",
    "# ax = axes.flatten()\n",
    "\n",
    "# ax[0].imshow(nuc_img, cmap=\"gray\")\n",
    "# ax[0].set_axis_off()\n",
    "# ax[0].set_title(\"Original Image\", fontsize=12)\n",
    "\n",
    "# ax[1].imshow(nuc_mask, cmap='gray')\n",
    "# ax[1].set_axis_off()\n",
    "# ax[1].set_title('mask', fontsize=12)"
   ]
  },
  {
   "cell_type": "markdown",
   "metadata": {},
   "source": [
    "## Evolve curve around an object"
   ]
  },
  {
   "cell_type": "code",
   "execution_count": 1,
   "metadata": {},
   "outputs": [],
   "source": [
    "import numpy as np\n",
    "from scipy.ndimage import gaussian_filter, laplace\n",
    "from skimage.io import imshow, imsave, imread\n",
    "from skimage.draw import disk, circle_perimeter\n",
    "import matplotlib as mpl\n",
    "import os\n",
    "import cv2 as cv\n",
    "\n",
    "%matplotlib inline"
   ]
  },
  {
   "cell_type": "code",
   "execution_count": 2,
   "metadata": {},
   "outputs": [],
   "source": [
    "ROOT = os.path.dirname(os.getcwd())\n",
    "DATA_DIR = os.path.join(ROOT, 'Data')"
   ]
  },
  {
   "cell_type": "code",
   "execution_count": 71,
   "metadata": {},
   "outputs": [
    {
     "data": {
      "text/plain": [
       "array([[0., 0., 0.],\n",
       "       [0., 0., 0.],\n",
       "       [0., 0., 0.],\n",
       "       [0., 0., 0.]])"
      ]
     },
     "execution_count": 71,
     "metadata": {},
     "output_type": "execute_result"
    }
   ],
   "source": [
    "x = np.zeros((3,3))\n",
    "np.vstack((np.zeros((1,3)),x))"
   ]
  },
  {
   "cell_type": "code",
   "execution_count": 127,
   "metadata": {},
   "outputs": [],
   "source": [
    "# Initialize a guesss of the contour\n",
    "def initialize(img):\n",
    "    '''\n",
    "    Distance transforming image into a family of level sets psi = +/-d\n",
    "    The psi = 0 level always yields the moving front of a shape, aka the curvature\n",
    "    '''\n",
    "    img = np.clip(img, 0, 255)\n",
    "    img_invert = 255 - img # this step will change boundaries to 0\n",
    "    img = img.astype('uint8')\n",
    "    img_invert = img_invert.astype('uint8')\n",
    "    # conver to single-channgle gray-scale image\n",
    "    img = cv.cvtColor(img, cv.COLOR_BGR2GRAY) \n",
    "    zero_level = np.zeros_like(img)\n",
    "    img_invert = cv.cvtColor(img_invert, cv.COLOR_BGR2GRAY)\n",
    "    # distance transform the image with a 3 x 3 kernel. \n",
    "    dist_img = cv.distanceTransform(img, cv.DIST_L2, 3) \n",
    "    img_invert[dist_img==dist_img.max()] = 255 # need to restore the boundaries\n",
    "    dist_img_invert = cv.distanceTransform(img_invert, cv.DIST_L2, 3) \n",
    "    psi = dist_img + dist_img_invert \n",
    "    # imshow(res_img)\n",
    "    zero_level[psi == psi.min()] = 1\n",
    "    # imshow(psi)\n",
    "    # mark boundaries in dist_img with 0, then make the interior distance negative \n",
    "    # dist_img[zero_level > 0] = 0 # we want the distance on the boundaries to be zero\n",
    "    dist_img = -1 * dist_img # the distances inside the boundaries are negative\n",
    "    # dist_img_invert[zero_level > 0] = 0 # we want the distance on the boundaries to be zero\n",
    "    psi = dist_img + dist_img_invert # now the boundaries are fixed and zero\n",
    "    return zero_level, psi\n",
    "\n",
    "def central_difference(psi):\n",
    "    '''\n",
    "    Calculate central difference for each point in psi\n",
    "    '''\n",
    "    return\n",
    "\n",
    "def draw_curve(img, psi, color_vec=[255,0,0]):\n",
    "    '''\n",
    "    Draw curve U on an image. By default, it is drawn in the red channel\n",
    "    '''\n",
    "    min_value = np.min(np.abs(psi)) # take the min to be the zero level set because of numerical issue\n",
    "    img[psi==min_value] = color_vec\n",
    "    return img\n",
    "\n",
    "def curve_evolution(img, dt=0.5, max_iter=1000, v=0.2):\n",
    "    '''\n",
    "    evolve the curve based on the magitude the image gradient \n",
    "    '''\n",
    "    _, psi = initialize(img) # initialize psi\n",
    "    # imshow(psi)\n",
    "    dx, dy = np.gradient(psi) # central differences of psi in curvature motion flow\n",
    "    grad_mag = np.sqrt(dx**2 + dy**2) # gradient magnitude of \\grad \\psi\n",
    "    for i in range(max_iter):\n",
    "        dpsi = v * grad_mag * dt\n",
    "        psi[:] = psi[:] - dpsi\n",
    "    img = draw_curve(img, psi)\n",
    "    # imshow(img)\n",
    "    return img\n",
    "    "
   ]
  },
  {
   "cell_type": "code",
   "execution_count": 128,
   "metadata": {},
   "outputs": [
    {
     "data": {
      "image/png": "[encoded data removed]",
      "text/plain": [
       "<Figure size 640x480 with 1 Axes>"
      ]
     },
     "metadata": {},
     "output_type": "display_data"
    }
   ],
   "source": [
    "img = imread(os.path.join(DATA_DIR, 'example', 'test.png'))\n",
    "# U = initialize((img.shape[0],img.shape[1]), r=15)\n",
    "# dist_transformed_img = distance_transform(img, sigma=2)\n",
    "curve_evolution(img, max_iter=10)"
   ]
  }
 ],
 "metadata": {
  "kernelspec": {
   "display_name": "Python 3.9.10 ('CellSegEnv': venv)",
   "language": "python",
   "name": "python3"
  },
  "language_info": {
   "codemirror_mode": {
    "name": "ipython",
    "version": 3
   },
   "file_extension": ".py",
   "mimetype": "text/x-python",
   "name": "python",
   "nbconvert_exporter": "python",
   "pygments_lexer": "ipython3",
   "version": "3.9.10"
  },
  "orig_nbformat": 4,
  "vscode": {
   "interpreter": {
    "hash": "89fe5923dc7bbcac5b7bdec85ef528735e55a9db9d2bcdfcccf94c8dceec2941"
   }
  }
 },
 "nbformat": 4,
 "nbformat_minor": 2
}
