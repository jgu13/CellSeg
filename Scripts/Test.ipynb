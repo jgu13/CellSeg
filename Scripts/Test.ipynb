{
 "cells": [
  {
   "cell_type": "markdown",
   "metadata": {},
   "source": [
    "# Testing for ideas"
   ]
  },
  {
   "cell_type": "code",
   "execution_count": 1,
   "metadata": {},
   "outputs": [],
   "source": [
    "import skimage.segmentation as segmentation\n",
    "from skimage.exposure import rescale_intensity\n",
    "import matplotlib as mpl\n",
    "import os\n",
    "import cv2 as cv\n",
    "\n",
    "%matplotlib inline"
   ]
  },
  {
   "cell_type": "code",
   "execution_count": 30,
   "metadata": {},
   "outputs": [],
   "source": [
    "ROOT = os.path.dirname(os.getcwd())\n",
    "DATA_DIR = os.path.join(ROOT, 'Data')"
   ]
  },
  {
   "cell_type": "code",
   "execution_count": 32,
   "metadata": {},
   "outputs": [],
   "source": [
    "# samples = os.listdir(DATA_DIR)\n",
    "\n",
    "# testsample = samples[0]\n",
    "# image_dir = os.path.join(DATA_DIR, testsample, 'Raw')\n",
    "# mask_dir = os.path.join(DATA_DIR, testsample, 'Mask')\n",
    "\n",
    "# nuc_img = mpl.pyplot.imread(os.path.join(image_dir, 'nuclei.tiff'))\n",
    "# nuc_img = rescale_intensity(nuc_img, (100, 400)) # need to manually set the intensity range\n",
    "# nuc_img = nuc_img[600:nuc_img.shape[0], 0:600]\n",
    "\n",
    "# nuc_cvseg = segmentation.chan_vese(nuc_img, mu=0.25, lambda1=1, lambda2=1, tol=1e-3,\n",
    "#                max_num_iter=200, dt=0.5, init_level_set=\"checkerboard\",\n",
    "#                extended_output=True)\n",
    "\n",
    "# fig, axes = mpl.pyplot.subplots(1, 2, figsize=(8, 5))\n",
    "# ax = axes.flatten()\n",
    "\n",
    "# ax[0].imshow(nuc_img, cmap=\"gray\")\n",
    "# ax[0].set_axis_off()\n",
    "# ax[0].set_title(\"Original Image\", fontsize=12)\n",
    "\n",
    "# ax[1].imshow(nuc_cvseg[0])\n",
    "# ax[1].set_axis_off()\n",
    "# title = f'Chan-Vese segmentation'\n",
    "# ax[1].set_title(title, fontsize=12)"
   ]
  },
  {
   "cell_type": "code",
   "execution_count": 31,
   "metadata": {},
   "outputs": [],
   "source": [
    "# nuc_mask = mpl.pyplot.imread(os.path.join(mask_dir, 'mask.tiff'))\n",
    "# nuc_mask = nuc_mask[600:nuc_mask.shape[0], 0:600]\n",
    "\n",
    "# fig, axes = mpl.pyplot.subplots(1, 2, figsize=(8, 5))\n",
    "# ax = axes.flatten()\n",
    "\n",
    "# ax[0].imshow(nuc_img, cmap=\"gray\")\n",
    "# ax[0].set_axis_off()\n",
    "# ax[0].set_title(\"Original Image\", fontsize=12)\n",
    "\n",
    "# ax[1].imshow(nuc_mask, cmap='gray')\n",
    "# ax[1].set_axis_off()\n",
    "# ax[1].set_title('mask', fontsize=12)"
   ]
  },
  {
   "cell_type": "markdown",
   "metadata": {},
   "source": [
    "## Evolve curve around an object"
   ]
  },
  {
   "cell_type": "code",
   "execution_count": 36,
   "metadata": {},
   "outputs": [],
   "source": [
    "import numpy as np\n",
    "from scipy.ndimage import gaussian_filter\n",
    "from skimage.io import imshow, imsave, imread\n",
    "from skimage.draw import disk, circle_perimeter"
   ]
  },
  {
   "cell_type": "code",
   "execution_count": 61,
   "metadata": {},
   "outputs": [],
   "source": [
    "# Initialize a guesss of the contour\n",
    "def initialize(size, r=5):\n",
    "    '''\n",
    "    Initialize in an image a random contour. By default, a circle is drawn\n",
    "    '''\n",
    "    U = np.zeros(size)\n",
    "    # TODO: How to sample enough points to evolve over time so visually they are always connected? \n",
    "    angs = np.linspace(0,2*(2*np.pi),num=100)\n",
    "    x, y = np.random.randint(low=0+r, high=size[1]-r), np.random.randint(low=0+r, high=size[0]-r)\n",
    "    xs = np.asanyarray(r*np.cos(angs) + x, dtype=int)\n",
    "    ys = np.asanyarray(r*np.sin(angs) + y, dtype=int)\n",
    "    U[ys, xs] = 1\n",
    "    imshow(U)\n",
    "    return\n",
    "\n",
    "def distance_transform(img, sigma):\n",
    "    img = gaussian_filter(img, sigma)\n",
    "    imshow(img)\n",
    "    return img\n",
    "\n",
    "def draw_curve(img, U, color_vec=[1,0,0]):\n",
    "    '''\n",
    "    Draw curve U on an image. By default, it is drawn in the red channel\n",
    "    '''\n",
    "    # U is a binary image where the curve is 1\n",
    "    img[np.nonzero(np.transpose(U)),:] = color_vec\n",
    "    return img\n",
    "\n",
    "def curve_evolution(img, dt=0.5, max_iter=1000, sigma=2, K=0.5):\n",
    "    '''\n",
    "    evolve the curve based on the magitude the image gradient \n",
    "    # u(t) = v dU/dt, where v is a velocity determined by the image gradient\n",
    "    '''\n",
    "    img = distance_transform(img, sigma)\n",
    "    dx, dy, _ = np.gradient(img) # central gradient of img\n",
    "    # U = initialize((img.shape[0], img.shape[1]), r=int(img.shape[0]/2)) # initialize a curve\n",
    "    # imshow(U)\n",
    "    # for i in range(max_iter):\n",
    "    #     # for every point of the curve U\n",
    "    #     indices = np.transpose(np.nonzero(U))\n",
    "    #     U = np.zeros_like(U) # so that the updated curve will be drawn on an clean image\n",
    "    #     for index in indices:\n",
    "    #         y, x = index\n",
    "    #         v = K*np.sqrt(dx[y,x]**2 + dy[y,x]**2) # speed is proportional to the magnitude of the image gradient\n",
    "    #         norm_v = np.asanyarray([dx[y,x], dy[y,x]]) # the direction to evolve the curve\n",
    "    #         dU = v * dt * norm_v\n",
    "    #         U[y+dU[0], x+dU[1]] = 1 # update the current curve\n",
    "    # img = draw_curve(img, U)\n",
    "    # imshow(img)\n",
    "    return img"
   ]
  },
  {
   "cell_type": "code",
   "execution_count": null,
   "metadata": {},
   "outputs": [],
   "source": [
    "# # uncomment to save a test image\n",
    "# img_size = (50,50) \n",
    "# center = (10,10)\n",
    "# img = np.zeros((img_size[0], img_size[1], 3))\n",
    "# rr, cc = disk((25, 25), 20, shape=img_size)\n",
    "# img[rr, cc, :] = [255, 255, 255]\n",
    "# imshow(img, cmap='gray')\n",
    "# imsave(os.path.join(DATA_DIR, 'example', 'test.png'), img)"
   ]
  },
  {
   "cell_type": "code",
   "execution_count": 62,
   "metadata": {},
   "outputs": [
    {
     "data": {
      "text/plain": [
       "array([[[0, 0, 0],\n",
       "        [0, 0, 0],\n",
       "        [0, 0, 0],\n",
       "        ...,\n",
       "        [0, 0, 0],\n",
       "        [0, 0, 0],\n",
       "        [0, 0, 0]],\n",
       "\n",
       "       [[0, 0, 0],\n",
       "        [0, 0, 0],\n",
       "        [0, 0, 0],\n",
       "        ...,\n",
       "        [0, 0, 0],\n",
       "        [0, 0, 0],\n",
       "        [0, 0, 0]],\n",
       "\n",
       "       [[0, 0, 0],\n",
       "        [0, 0, 0],\n",
       "        [0, 0, 0],\n",
       "        ...,\n",
       "        [0, 0, 0],\n",
       "        [0, 0, 0],\n",
       "        [0, 0, 0]],\n",
       "\n",
       "       ...,\n",
       "\n",
       "       [[0, 0, 0],\n",
       "        [0, 0, 0],\n",
       "        [0, 0, 0],\n",
       "        ...,\n",
       "        [0, 0, 0],\n",
       "        [0, 0, 0],\n",
       "        [0, 0, 0]],\n",
       "\n",
       "       [[0, 0, 0],\n",
       "        [0, 0, 0],\n",
       "        [0, 0, 0],\n",
       "        ...,\n",
       "        [0, 0, 0],\n",
       "        [0, 0, 0],\n",
       "        [0, 0, 0]],\n",
       "\n",
       "       [[0, 0, 0],\n",
       "        [0, 0, 0],\n",
       "        [0, 0, 0],\n",
       "        ...,\n",
       "        [0, 0, 0],\n",
       "        [0, 0, 0],\n",
       "        [0, 0, 0]]], dtype=uint8)"
      ]
     },
     "execution_count": 62,
     "metadata": {},
     "output_type": "execute_result"
    },
    {
     "data": {
      "image/png": "[encoded data removed]",
      "text/plain": [
       "<Figure size 432x288 with 1 Axes>"
      ]
     },
     "metadata": {
      "needs_background": "light"
     },
     "output_type": "display_data"
    }
   ],
   "source": [
    "img = imread(os.path.join(DATA_DIR, 'example', 'test.png'))\n",
    "# U = initialize((img.shape[0],img.shape[1]), r=15)\n",
    "# dist_transformed_img = distance_transform(img, sigma=2)\n",
    "curve_evolution(img)"
   ]
  }
 ],
 "metadata": {
  "kernelspec": {
   "display_name": "Python 3.9.10 ('CellSegEnv': venv)",
   "language": "python",
   "name": "python3"
  },
  "language_info": {
   "codemirror_mode": {
    "name": "ipython",
    "version": 3
   },
   "file_extension": ".py",
   "mimetype": "text/x-python",
   "name": "python",
   "nbconvert_exporter": "python",
   "pygments_lexer": "ipython3",
   "version": "3.9.10"
  },
  "orig_nbformat": 4,
  "vscode": {
   "interpreter": {
    "hash": "89fe5923dc7bbcac5b7bdec85ef528735e55a9db9d2bcdfcccf94c8dceec2941"
   }
  }
 },
 "nbformat": 4,
 "nbformat_minor": 2
}
