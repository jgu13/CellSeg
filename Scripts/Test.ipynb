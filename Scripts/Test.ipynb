{
 "cells": [
  {
   "cell_type": "markdown",
   "metadata": {},
   "source": [
    "# Testing for ideas"
   ]
  },
  {
   "cell_type": "code",
   "execution_count": 32,
   "metadata": {},
   "outputs": [],
   "source": [
    "# samples = os.listdir(DATA_DIR)\n",
    "\n",
    "# testsample = samples[0]\n",
    "# image_dir = os.path.join(DATA_DIR, testsample, 'Raw')\n",
    "# mask_dir = os.path.join(DATA_DIR, testsample, 'Mask')\n",
    "\n",
    "# nuc_img = mpl.pyplot.imread(os.path.join(image_dir, 'nuclei.tiff'))\n",
    "# nuc_img = rescale_intensity(nuc_img, (100, 400)) # need to manually set the intensity range\n",
    "# nuc_img = nuc_img[600:nuc_img.shape[0], 0:600]\n",
    "\n",
    "# nuc_cvseg = segmentation.chan_vese(nuc_img, mu=0.25, lambda1=1, lambda2=1, tol=1e-3,\n",
    "#                max_num_iter=200, dt=0.5, init_level_set=\"checkerboard\",\n",
    "#                extended_output=True)\n",
    "\n",
    "# fig, axes = mpl.pyplot.subplots(1, 2, figsize=(8, 5))\n",
    "# ax = axes.flatten()\n",
    "\n",
    "# ax[0].imshow(nuc_img, cmap=\"gray\")\n",
    "# ax[0].set_axis_off()\n",
    "# ax[0].set_title(\"Original Image\", fontsize=12)\n",
    "\n",
    "# ax[1].imshow(nuc_cvseg[0])\n",
    "# ax[1].set_axis_off()\n",
    "# title = f'Chan-Vese segmentation'\n",
    "# ax[1].set_title(title, fontsize=12)"
   ]
  },
  {
   "cell_type": "code",
   "execution_count": 31,
   "metadata": {},
   "outputs": [],
   "source": [
    "# nuc_mask = mpl.pyplot.imread(os.path.join(mask_dir, 'mask.tiff'))\n",
    "# nuc_mask = nuc_mask[600:nuc_mask.shape[0], 0:600]\n",
    "\n",
    "# fig, axes = mpl.pyplot.subplots(1, 2, figsize=(8, 5))\n",
    "# ax = axes.flatten()\n",
    "\n",
    "# ax[0].imshow(nuc_img, cmap=\"gray\")\n",
    "# ax[0].set_axis_off()\n",
    "# ax[0].set_title(\"Original Image\", fontsize=12)\n",
    "\n",
    "# ax[1].imshow(nuc_mask, cmap='gray')\n",
    "# ax[1].set_axis_off()\n",
    "# ax[1].set_title('mask', fontsize=12)"
   ]
  },
  {
   "cell_type": "markdown",
   "metadata": {},
   "source": [
    "## Evolve curve around an object"
   ]
  },
  {
   "cell_type": "code",
   "execution_count": 1,
   "metadata": {},
   "outputs": [],
   "source": [
    "import numpy as np\n",
    "from scipy.ndimage import gaussian_filter, laplace\n",
    "from skimage.io import imshow, imsave, imread\n",
    "from skimage.draw import disk, circle_perimeter\n",
    "import matplotlib as mpl\n",
    "import os\n",
    "import cv2 as cv\n",
    "\n",
    "%matplotlib inline"
   ]
  },
  {
   "cell_type": "code",
   "execution_count": 2,
   "metadata": {},
   "outputs": [],
   "source": [
    "ROOT = os.path.dirname(os.getcwd())\n",
    "DATA_DIR = os.path.join(ROOT, 'Data')"
   ]
  },
  {
   "cell_type": "code",
   "execution_count": 64,
   "metadata": {},
   "outputs": [],
   "source": [
    "# Initialize a guesss of the contour\n",
    "def initialize(img):\n",
    "    '''\n",
    "    Distance transforming image into a family of level sets psi = +/-d\n",
    "    The psi = 0 level always yields the moving front of a shape, aka the curvature\n",
    "    '''\n",
    "    img = np.clip(img, 0, 255)\n",
    "    img_invert = 255 - img # this step will change boundaries to 0\n",
    "    img = img.astype('uint8')\n",
    "    img_invert = img_invert.astype('uint8')\n",
    "    # conver to single-channgle gray-scale image\n",
    "    img = cv.cvtColor(img, cv.COLOR_BGR2GRAY) \n",
    "    zero_level = np.zeros_like(img)\n",
    "    img_invert = cv.cvtColor(img_invert, cv.COLOR_BGR2GRAY)\n",
    "    # distance transform the image with a 3 x 3 kernel. \n",
    "    dist_img = cv.distanceTransform(img, cv.DIST_L2, 3) \n",
    "    img_invert[dist_img==dist_img.max()] = 255 # need to restore the boundaries\n",
    "    dist_img_invert = cv.distanceTransform(img_invert, cv.DIST_L2, 3) \n",
    "    psi = dist_img + dist_img_invert \n",
    "    # imshow(res_img)\n",
    "    zero_level[psi == psi.min()] = 1\n",
    "    # imshow(psi)\n",
    "    # mark boundaries in dist_img with 0, then make the interior distance negative \n",
    "    # dist_img[zero_level > 0] = 0 # we want the distance on the boundaries to be zero\n",
    "    dist_img = -1 * dist_img # the distances inside the boundaries are negative\n",
    "    # dist_img_invert[zero_level > 0] = 0 # we want the distance on the boundaries to be zero\n",
    "    psi = dist_img + dist_img_invert # now the boundaries are fixed and zero\n",
    "    return zero_level, psi\n",
    "\n",
    "def draw_curve(img, curve, color_vec=[255,0,0]):\n",
    "    '''\n",
    "    Draw curve U on an image. By default, it is drawn in the red channel\n",
    "    '''\n",
    "    # U is a binary image where the curve is 1\n",
    "    img[np.nonzero(np.transpose(curve))[0], np.nonzero(np.transpose(curve))[1], :] = color_vec\n",
    "    return img\n",
    "\n",
    "def curve_evolution(img, dt=0.5, max_iter=1000, v=None):\n",
    "    '''\n",
    "    evolve the curve based on the magitude the image gradient \n",
    "    u(t) = v dU/dt, where v is a velocity determined by the image gradient\n",
    "    '''\n",
    "    curve, psi = initialize(img) # initialize psi and curve\n",
    "    dx, dy = np.gradient(psi) # central differences of psi in curvature motion flow\n",
    "    # imshow(psi)\n",
    "    grad_mag = np.sqrt(dx**2 + dy**2)\n",
    "    for i in range(max_iter):\n",
    "        # for every point of the curve\n",
    "        indices = np.transpose(np.nonzero(curve))\n",
    "        curve = np.zeros_like(curve) # so that the updated curve will be drawn on an clean image\n",
    "        for index in indices:\n",
    "            y, x = index\n",
    "            if v is None:\n",
    "                v = np.sqrt(dx[y,x]**2 + dy[y,x]**2) # make v proportional to the magnitude of the image gradient\n",
    "            unit_vec = np.asanyarray([dy[y,x], dx[y,x]]) / grad_mag[y,x] # the direction to evolve the curve\n",
    "            dU = v * unit_vec * grad_mag[y,x] * dt\n",
    "            curve[int(y+dU[0]), int(x+dU[1])] = 1 # update the current curve\n",
    "    img = draw_curve(img, curve)\n",
    "    imshow(img)\n",
    "    "
   ]
  },
  {
   "cell_type": "code",
   "execution_count": null,
   "metadata": {},
   "outputs": [],
   "source": [
    "# # uncomment to save a test image\n",
    "# img_size = (50,50) \n",
    "# center = (10,10)\n",
    "# img = np.zeros((img_size[0], img_size[1], 3))\n",
    "# rr, cc = disk((25, 25), 20, shape=img_size)\n",
    "# img[rr, cc, :] = [255, 255, 255]\n",
    "# imshow(img, cmap='gray')\n",
    "# imsave(os.path.join(DATA_DIR, 'example', 'test.png'), img)"
   ]
  },
  {
   "cell_type": "code",
   "execution_count": 65,
   "metadata": {},
   "outputs": [
    {
     "data": {
      "image/png": "[encoded data removed]",
      "text/plain": [
       "<Figure size 640x480 with 2 Axes>"
      ]
     },
     "metadata": {},
     "output_type": "display_data"
    }
   ],
   "source": [
    "img = imread(os.path.join(DATA_DIR, 'example', 'test.png'))\n",
    "# U = initialize((img.shape[0],img.shape[1]), r=15)\n",
    "# dist_transformed_img = distance_transform(img, sigma=2)\n",
    "curve_evolution(img, max_iter=5, v=0.2)"
   ]
  }
 ],
 "metadata": {
  "kernelspec": {
   "display_name": "Python 3.9.10 ('CellSegEnv': venv)",
   "language": "python",
   "name": "python3"
  },
  "language_info": {
   "codemirror_mode": {
    "name": "ipython",
    "version": 3
   },
   "file_extension": ".py",
   "mimetype": "text/x-python",
   "name": "python",
   "nbconvert_exporter": "python",
   "pygments_lexer": "ipython3",
   "version": "3.9.10"
  },
  "orig_nbformat": 4,
  "vscode": {
   "interpreter": {
    "hash": "89fe5923dc7bbcac5b7bdec85ef528735e55a9db9d2bcdfcccf94c8dceec2941"
   }
  }
 },
 "nbformat": 4,
 "nbformat_minor": 2
}
